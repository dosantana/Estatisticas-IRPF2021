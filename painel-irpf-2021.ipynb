{
  "nbformat": 4,
  "nbformat_minor": 0,
  "metadata": {
    "colab": {
      "name": "Untitled3.ipynb",
      "provenance": [],
      "authorship_tag": "ABX9TyOjLzTnCWBOxQkrHuuSx6l6",
      "include_colab_link": true
    },
    "kernelspec": {
      "name": "python3",
      "display_name": "Python 3"
    }
  },
  "cells": [
    {
      "cell_type": "markdown",
      "metadata": {
        "id": "view-in-github",
        "colab_type": "text"
      },
      "source": [
        "<a href=\"https://colab.research.google.com/github/dosantana/Estatisticas-IRPF2021/blob/main/painel-irpf-2021.ipynb\" target=\"_parent\"><img src=\"https://colab.research.google.com/assets/colab-badge.svg\" alt=\"Open In Colab\"/></a>"
      ]
    },
    {
      "cell_type": "code",
      "metadata": {
        "id": "fO_AKfSReJ2_"
      },
      "source": [
        "# Importando as bibliotecas:\r\n",
        "import pandas as pd\r\n",
        "import numpy as np\r\n",
        "\r\n",
        "import warnings\r\n",
        "warnings.filterwarnings('ignore')\r\n",
        "\r\n",
        "# Lendo o arquivo:\r\n",
        "file = 'covid_19_clean_complete.csv'\r\n",
        "df = pd.read_csv(file, sep=',', parse_dates=['Date'])"
      ],
      "execution_count": null,
      "outputs": []
    }
  ]
}